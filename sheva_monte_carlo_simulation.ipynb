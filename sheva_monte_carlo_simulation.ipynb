{
  "cells": [
    {
      "cell_type": "markdown",
      "metadata": {
        "colab_type": "text",
        "id": "view-in-github"
      },
      "source": [
        "<a href=\"https://colab.research.google.com/github/jismartin/sheva/blob/main/sheva_monte_carlo_simulation.ipynb\" target=\"_parent\"><img src=\"https://colab.research.google.com/assets/colab-badge.svg\" alt=\"Open In Colab\"/></a>"
      ]
    },
    {
      "cell_type": "markdown",
      "metadata": {
        "id": "U3_xX6UjJz7p"
      },
      "source": [
        "# SHEVA Shapley values for Earned VAlue management"
      ]
    },
    {
      "cell_type": "markdown",
      "metadata": {
        "id": "QYBoL4U3T9jB"
      },
      "source": [
        "# Monte-Carlo simulation\n",
        "Monte Carlo simulation of a case study based on Lambrechts (2008)"
      ]
    },
    {
      "cell_type": "code",
      "execution_count": 1,
      "metadata": {
        "id": "T7PaV5jLJz7u"
      },
      "outputs": [],
      "source": [
        "import networkx as nx\n",
        "import pandas as pd\n",
        "import numpy as np\n",
        "import scipy.stats\n",
        "import plotly.express as px"
      ]
    },
    {
      "cell_type": "code",
      "execution_count": 2,
      "metadata": {
        "id": "H7aa1bvlJz7w"
      },
      "outputs": [],
      "source": [
        "def create_aon_network(edges_file,activities_file):\n",
        "    # The activity‐on‐node (AON) network is modeled as a Networkx directed acyclic \n",
        "    # edges_file contains the edge list of the network\n",
        "    # activities_file contains the duration and cost values\n",
        "    dfnet=pd.read_csv(edges_file)\n",
        "    dfact=pd.read_csv(activities_file)\n",
        "    G=nx.DiGraph()\n",
        "    for i in dfnet.index:\n",
        "        G.add_edge(dfnet.loc[i,'n1'],dfnet.loc[i,'n2'])\n",
        "    for i in dfact.index:\n",
        "        G.nodes[dfact.loc[i,'node']]['t_duration']=0\n",
        "        G.nodes[dfact.loc[i,'node']]['t_start']=0\n",
        "        G.nodes[dfact.loc[i,'node']]['duration_mu']=dfact.loc[i,'mu'] # Mean of the Normal distribution\n",
        "        G.nodes[dfact.loc[i,'node']]['duration_var']=dfact.loc[i,'var'] # Variance of the Normal distribution\n",
        "        G.nodes[dfact.loc[i,'node']]['cost']=dfact.loc[i,'cost'] # Variable cost\n",
        "    print(nx.info(G))\n",
        "    print('Is G aperiodic?',nx.is_aperiodic(G))  \n",
        "    return G"
      ]
    },
    {
      "cell_type": "code",
      "execution_count": 3,
      "metadata": {
        "id": "sYwIARKqJz7x",
        "outputId": "4ae63fb9-fe1a-4c32-cd2c-1bfefb98d145"
      },
      "outputs": [
        {
          "name": "stdout",
          "output_type": "stream",
          "text": [
            "DiGraph with 10 nodes and 12 edges\n",
            "Is G aperiodic? True\n"
          ]
        }
      ],
      "source": [
        "G=create_aon_network('./data/aon_edges.txt.','./data/aon_activities.txt')"
      ]
    },
    {
      "cell_type": "markdown",
      "metadata": {
        "id": "aqBMQusYJz7z"
      },
      "source": [
        "## Functions for simulation"
      ]
    },
    {
      "cell_type": "code",
      "execution_count": 4,
      "metadata": {
        "id": "426byM02Jz70"
      },
      "outputs": [],
      "source": [
        "def initialize_graph(G):\n",
        "    # Reset start time to zero\n",
        "    for i in G.nodes():\n",
        "        G.nodes[i]['t_start']=0\n"
      ]
    },
    {
      "cell_type": "code",
      "execution_count": 5,
      "metadata": {
        "id": "nkx0YWxuJz71"
      },
      "outputs": [],
      "source": [
        "def draw_random_durations(G,rand=True,noise='none',n_std=1):\n",
        "    # for each tick, draw the activities' duration (depending on the experiment)\n",
        "    if rand==True:\n",
        "        for i in G.nodes():\n",
        "            G.nodes[i]['t_duration']=np.random.normal(G.nodes[i]['duration_mu'],\n",
        "            np.sqrt(G.nodes[i]['duration_var']))\n",
        "        if noise=='2-5': #\n",
        "            # Node 2 to Node 5\n",
        "            if G.nodes[2]['t_duration'] >= (G.nodes[2]['duration_mu']+ (np.sqrt(G.nodes[2]['duration_var']) *n_std)): # n_std deviation\n",
        "                G.nodes[5]['t_duration']=np.random.normal(G.nodes[5]['duration_mu'] + 12, np.sqrt(G.nodes[5]['duration_var']))\n",
        "        elif noise=='5-rand':\n",
        "            th=1-scipy.stats.norm.cdf(G.nodes[2]['duration_mu'] + (np.sqrt(G.nodes[2]['duration_var']) *n_std),\n",
        "                loc=G.nodes[2]['duration_mu'],\n",
        "                scale=np.sqrt(G.nodes[2]['duration_var']))\n",
        "            if np.random.rand()<th:\n",
        "                G.nodes[5]['t_duration']=np.random.normal(G.nodes[5]['duration_mu'] + 12, np.sqrt(G.nodes[5]['duration_var']))\n",
        "    else:\n",
        "        # for checking with the average durations\n",
        "        for i in G.nodes():\n",
        "            G.nodes[i]['t_duration']=G.nodes[i]['duration_mu']\n"
      ]
    },
    {
      "cell_type": "code",
      "execution_count": 6,
      "metadata": {
        "id": "8ykqhHKuJz72"
      },
      "outputs": [],
      "source": [
        "def compute_times(G):\n",
        "    # Solve the start time of activities\n",
        "    # follow a list of nodes in topologically sorted order\n",
        "    for i in nx.topological_sort(G):       \n",
        "        t2=G.nodes[i]['t_start'] + G.nodes[i]['t_duration'] # end time\n",
        "        for j in G.neighbors(i):\n",
        "            G.nodes[j]['t_start']=np.max([G.nodes[j]['t_start'],t2])       "
      ]
    },
    {
      "cell_type": "code",
      "execution_count": 7,
      "metadata": {
        "id": "0MxmrhrrJz73"
      },
      "outputs": [],
      "source": [
        "def compute_duration_at_EV(G,df):\n",
        "    # Compute the project duration at a particular EV state\n",
        "    G2=G.copy()\n",
        "    initialize_graph(G2)\n",
        "    for i in [n for n in G2.nodes() if n not in [0,9]]:\n",
        "        G2.nodes[i]['t_duration']=df.loc[df['node']==i,'duration@'].values[0]\n",
        "    compute_times(G2)\n",
        "    return np.max([G2.nodes[i]['t_start'] for i in G2.nodes()])        "
      ]
    },
    {
      "cell_type": "code",
      "execution_count": 8,
      "metadata": {
        "id": "cib8WXTVJz74"
      },
      "outputs": [],
      "source": [
        "def create_df_run(G):\n",
        "    # dataframe of a run used to compute project's values\n",
        "    df_run=pd.DataFrame([[ i,\n",
        "        G.nodes[i]['cost'],\n",
        "        G.nodes[i]['duration_mu'],\n",
        "        G.nodes[i]['t_duration'],\n",
        "        G.nodes[i]['t_start'],\n",
        "        G.nodes[i]['t_start'] + G.nodes[i]['t_duration'], # end time\n",
        "        0,0] for i in G.nodes()],\n",
        "        columns=['node','cost','duration_mu','duration','start','end','duration@','ev@'])\n",
        "    df_run.index=df_run['node'].values\n",
        "    df_run.sort_values(by='start',inplace=True)\n",
        "    return df_run"
      ]
    },
    {
      "cell_type": "code",
      "execution_count": 9,
      "metadata": {
        "id": "V6Ud_KUmJz74"
      },
      "outputs": [],
      "source": [
        "def evaluate_at_EV(G,EV,Ti=0,N=1000):\n",
        "    # compute the project status at a particular eraned value (iterative approach)\n",
        "    df_ev=create_df_run(G)\n",
        "    A=df_ev.values \n",
        "    c={'node':0, 'cost':1, 'duration_mu':2, 'duration':3, 'start':4, 'end':5, 'duration@':6, 'ev@':7}\n",
        "\n",
        "    # Iterative approach (increase N to get more decimal precission)\n",
        "    for T in np.linspace(Ti,df_ev['end'].max(),N):\n",
        "        # Not started activities\n",
        "        not_started = T<=A[:,c['start']]\n",
        "        A[not_started,c['duration@']]=0\n",
        "        A[not_started,c['ev@']]=0\n",
        "\n",
        "        # Ended activities\n",
        "        ended = T>=A[:,c['end']]\n",
        "        A[ended,c['duration@']]=A[ended,c['duration']] # Real duration\n",
        "        A[ended,c['ev@']]=A[ended,c['duration_mu']]*A[ended,c['cost']] # plan cost\n",
        "\n",
        "        # Running activities\n",
        "        running = (A[:,c['start']]<T) & (A[:,c['end']]>T)\n",
        "        A[running,c['duration@']]= A[running,c['duration']] * (T-A[running,c['start']]) / (A[running,c['end']]-A[running,c['start']]) # % of the real duration\n",
        "        A[running,c['ev@']]= A[running,c['duration_mu']] * A[running,c['cost']] * (T-A[running,c['start']]) / (A[running,c['end']]-A[running,c['start']]) # % of the plan cost\n",
        "        if A[:,c['ev@']].sum()/(A[:,c['duration_mu']]*A[:,c['cost']]).sum()>=EV:\n",
        "            break;\n",
        "    df_ev.loc[:,'duration@']=A[:,c['duration@']]\n",
        "    df_ev.loc[:,'ev@']=A[:,c['ev@']]\n",
        "    return df_ev"
      ]
    },
    {
      "cell_type": "code",
      "execution_count": 10,
      "metadata": {
        "id": "-yCANwEUJz75"
      },
      "outputs": [],
      "source": [
        "def get_mean_time(G):\n",
        "    # compute the expected duration\n",
        "    G2=G.copy()\n",
        "    initialize_graph(G2)\n",
        "    draw_random_durations(G2,rand=False)\n",
        "    compute_times(G2)\n",
        "    return np.max([G2.nodes[i]['t_start'] for i in G2.nodes()])\n",
        "        "
      ]
    },
    {
      "cell_type": "code",
      "execution_count": null,
      "metadata": {},
      "outputs": [],
      "source": [
        "def get_mean_time(G):\n",
        "    # compute the expected duration\n",
        "    G2=G.copy()\n",
        "    initialize_graph(G2)\n",
        "    draw_random_durations(G2,rand=False)\n",
        "    compute_times(G2)\n",
        "    return np.max([G2.nodes[i]['t_start'] for i in G2.nodes()])"
      ]
    },
    {
      "cell_type": "markdown",
      "metadata": {
        "id": "TlnGOa68Jz75"
      },
      "source": [
        "## Experiments (EV = 75% BAC)"
      ]
    },
    {
      "cell_type": "code",
      "execution_count": null,
      "metadata": {
        "id": "A09EYPHGJz76"
      },
      "outputs": [],
      "source": [
        "def critical_path(df):\n",
        "    # Crtitical pathc of the case study project\n",
        "    paths=[('147',np.sum([df.loc[i,'duration']  for i in [1,4,7]])),\n",
        "        ('259',np.sum([df.loc[i,'duration']  for i in [2,5,9]])),\n",
        "        ('268',np.sum([df.loc[i,'duration']  for i in [2,6,8]])),\n",
        "        ('368',np.sum([df.loc[i,'duration']  for i in [3,6,8]]))]\n",
        "    return sorted(paths,key=lambda x: -x[1])[0][0]"
      ]
    },
    {
      "cell_type": "code",
      "execution_count": null,
      "metadata": {
        "id": "lbe0Aa94Jz76"
      },
      "outputs": [],
      "source": [
        "def simulation(edges_file,activities_file,experiment,EV,Nruns=50000):\n",
        "    # Monte-Carlo simulation\n",
        "    # AON network\n",
        "    G=create_aon_network(edges_file,activities_file)\n",
        "    \n",
        "    sim_list=list() # list of dictionaries with runs\n",
        "    print('Starting simulation...')\n",
        "    for m in range(Nruns):\n",
        "        # Initilize\n",
        "        initialize_graph(G)\n",
        "        # Draw durations\n",
        "        draw_random_durations(G,noise=experiment)\n",
        "        # Compute times\n",
        "        compute_times(G)\n",
        "        # Compute @EV\n",
        "        df=evaluate_at_EV(G,EV)\n",
        "        # Save run\n",
        "        sim={'duration'+str(i):df.loc[i,'duration'] for i in range(1,9)}\n",
        "        sim.update({'duration@'+str(i):df.loc[i,'duration@'] for i in range(1,9)})\n",
        "        sim.update({'cost@':(df['cost']*df['duration@']).sum(),\n",
        "            'duration@':compute_duration_at_EV(G,df),\n",
        "            'cost':(df['cost']*df['duration']).sum(),\n",
        "            'duration':df['end'].max(),\n",
        "            'critical_path':critical_path(df) })\n",
        "        sim_list.append(sim)\n",
        "        print(m)\n",
        "    print('... end simulation')\n",
        "    pd.DataFrame.from_dict(sim_list).to_csv('./data/simulation_EV'+str(EV)+'_'+experiment+'.csv')"
      ]
    },
    {
      "cell_type": "markdown",
      "metadata": {
        "id": "wrOGf4yOJz77"
      },
      "source": [
        "**Null model (5-rand) of comparison**"
      ]
    },
    {
      "cell_type": "code",
      "execution_count": null,
      "metadata": {
        "id": "MxmgJmmIJz77"
      },
      "outputs": [],
      "source": [
        "# Null model (5-rand) of comparison\n",
        "simulation(edges_file='./data/aon_edges.txt.',activities_file='./data/aon_activities.txt',experiment='5-rand',EV=0.75)"
      ]
    },
    {
      "cell_type": "markdown",
      "metadata": {
        "id": "_BowVs_PJz77"
      },
      "source": [
        "**Interaction between activities 2-5**"
      ]
    },
    {
      "cell_type": "code",
      "execution_count": null,
      "metadata": {
        "id": "ONG8HvI9Jz78"
      },
      "outputs": [],
      "source": [
        "#  interaction between activities 2-5\n",
        "simulation(edges_file='./data/aon_edges.txt.',activities_file='./data/aon_activities.txt',experiment='2-5',EV=0.75)"
      ]
    },
    {
      "cell_type": "code",
      "execution_count": null,
      "metadata": {
        "id": "SNDJ7HgbJz78"
      },
      "outputs": [],
      "source": []
    }
  ],
  "metadata": {
    "colab": {
      "include_colab_link": true,
      "name": "sheva_monte_carlo_simulation.ipynb",
      "provenance": []
    },
    "interpreter": {
      "hash": "a99b9f778b7a026bd5c86bd94be6744eb13aba0a0ce78769fbbfa49d88ffc1f1"
    },
    "kernelspec": {
      "display_name": "Python 3.7.13 ('nchenv')",
      "language": "python",
      "name": "python3"
    },
    "language_info": {
      "codemirror_mode": {
        "name": "ipython",
        "version": 3
      },
      "file_extension": ".py",
      "mimetype": "text/x-python",
      "name": "python",
      "nbconvert_exporter": "python",
      "pygments_lexer": "ipython3",
      "version": "3.7.13"
    },
    "orig_nbformat": 4
  },
  "nbformat": 4,
  "nbformat_minor": 0
}
