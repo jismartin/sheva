{
 "cells": [
  {
   "cell_type": "markdown",
   "metadata": {},
   "source": [
    "# SHEVA Shapley values for Earned VAlue management"
   ]
  },
  {
   "cell_type": "markdown",
   "metadata": {},
   "source": [
    "# Model selection"
   ]
  },
  {
   "cell_type": "markdown",
   "metadata": {},
   "source": [
    "## Dataset"
   ]
  },
  {
   "cell_type": "code",
   "execution_count": 3,
   "metadata": {},
   "outputs": [],
   "source": [
    "import pandas as pd\n",
    "import numpy as np"
   ]
  },
  {
   "cell_type": "code",
   "execution_count": 5,
   "metadata": {},
   "outputs": [],
   "source": [
    "# Simulation  dataset\n",
    "# Null model (5-rand) of comparison\n",
    "data=pd.read_csv('./data/simulation_EV0.75_5-rand.csv',index_col=0)\n",
    "data['critical_path']=data['critical_path'].astype('str')"
   ]
  },
  {
   "cell_type": "markdown",
   "metadata": {},
   "source": [
    "## Regresion models"
   ]
  },
  {
   "cell_type": "code",
   "execution_count": 1,
   "metadata": {},
   "outputs": [],
   "source": [
    "# Reegression models\n",
    "from sklearn.ensemble import RandomForestRegressor, GradientBoostingRegressor, AdaBoostRegressor\n",
    "from xgboost.sklearn import XGBRegressor"
   ]
  },
  {
   "cell_type": "code",
   "execution_count": 2,
   "metadata": {},
   "outputs": [],
   "source": [
    "from sklearn.model_selection import KFold, GridSearchCV\n",
    "from sklearn.metrics import mean_squared_error"
   ]
  },
  {
   "cell_type": "code",
   "execution_count": 8,
   "metadata": {},
   "outputs": [],
   "source": [
    "# random seed\n",
    "seed=1123"
   ]
  },
  {
   "cell_type": "code",
   "execution_count": 7,
   "metadata": {},
   "outputs": [],
   "source": [
    "# DBAC regression\n",
    "y=data.loc[:,'duration']\n",
    "X=data.loc[:,['duration@1','duration@2', 'duration@3','duration@4', 'duration@5','duration@6', 'duration@7','duration@8']]"
   ]
  },
  {
   "cell_type": "code",
   "execution_count": 9,
   "metadata": {},
   "outputs": [
    {
     "data": {
      "text/plain": [
       "{'learning_rate': 0.1, 'n_estimators': 100}"
      ]
     },
     "execution_count": 9,
     "metadata": {},
     "output_type": "execute_result"
    }
   ],
   "source": [
    "# AdaBoostRegressor: grid search\n",
    "# https://scikit-learn.org/stable/modules/generated/sklearn.ensemble.AdaBoostRegressor.html\n",
    "mdr = GridSearchCV(AdaBoostRegressor(),\n",
    "    param_grid={\"n_estimators\": np.linspace(100,1000,10).astype('int'),\n",
    "                \"learning_rate\": np.linspace(0.1,1,10)},n_jobs=8)\n",
    "mdr.fit(X, y)\n",
    "mdr.best_params_ # 'learning_rate': 0.1, 'n_estimators': 100"
   ]
  },
  {
   "cell_type": "code",
   "execution_count": 10,
   "metadata": {},
   "outputs": [
    {
     "data": {
      "text/plain": [
       "{'max_depth': 3, 'n_estimators': 100}"
      ]
     },
     "execution_count": 10,
     "metadata": {},
     "output_type": "execute_result"
    }
   ],
   "source": [
    "# GradientBoostingRegressor\n",
    "# https://scikit-learn.org/stable/modules/generated/sklearn.ensemble.GradientBoostingRegressor.html\n",
    "mdr = GridSearchCV(GradientBoostingRegressor(),\n",
    "    param_grid={\"n_estimators\": np.linspace(100,1000,7).astype('int'),  \n",
    "                \"max_depth\": np.linspace(1,10,5).astype('int')},n_jobs=8) \n",
    "mdr.fit(X, y)\n",
    "mdr.best_params_ # 'max_depth': 3, 'n_estimators': 100"
   ]
  },
  {
   "cell_type": "code",
   "execution_count": 11,
   "metadata": {},
   "outputs": [
    {
     "data": {
      "text/plain": [
       "{'max_depth': 10, 'n_estimators': 850}"
      ]
     },
     "execution_count": 11,
     "metadata": {},
     "output_type": "execute_result"
    }
   ],
   "source": [
    "# RandomForestRegressor\n",
    "# https://scikit-learn.org/stable/modules/generated/sklearn.ensemble.RandomForestRegressor.html\n",
    "mdr = GridSearchCV(RandomForestRegressor(),\n",
    "param_grid={\"n_estimators\": np.linspace(100,1000,7).astype('int'), \n",
    "           \"max_depth\": np.linspace(1,10,5).astype('int')},n_jobs=8)\n",
    "mdr.fit(X, y)\n",
    "mdr.best_params_ # 'max_depth': 10, 'n_estimators': 850"
   ]
  },
  {
   "cell_type": "code",
   "execution_count": 12,
   "metadata": {},
   "outputs": [
    {
     "data": {
      "text/plain": [
       "{'max_depth': 1, 'n_estimators': 250}"
      ]
     },
     "execution_count": 12,
     "metadata": {},
     "output_type": "execute_result"
    }
   ],
   "source": [
    "# XGBRegressor\n",
    "# https://xgboost.readthedocs.io/en/stable/python/python_api.html#module-xgboost.sklearn\n",
    "mdr = GridSearchCV(XGBRegressor(verbosity = 0),\n",
    "    param_grid={\"n_estimators\": np.linspace(100,1000,7).astype('int'),  \n",
    "                \"max_depth\": np.linspace(1,10,5).astype('int')},n_jobs=8)    \n",
    "mdr.fit(X, y)\n",
    "mdr.best_params_ # 'max_depth': 1, 'n_estimators': 250"
   ]
  },
  {
   "cell_type": "code",
   "execution_count": 13,
   "metadata": {},
   "outputs": [],
   "source": [
    "# Selection of models by 10-fold CV\n",
    "kfold = KFold(n_splits=10, random_state=seed,shuffle=True)\n",
    "results = pd.DataFrame([],columns=['model','kf','MSE'])\n",
    "models=[ ('AdaB',AdaBoostRegressor(learning_rate=0.1, n_estimators=100)),\n",
    "         ('GBR',GradientBoostingRegressor(max_depth=3, n_estimators=100)),\n",
    "         ('RF',RandomForestRegressor(max_depth=10, n_estimators=850)),\n",
    "         ('XGB',XGBRegressor(max_depth=1, n_estimators=250))]\n",
    "k=0\n",
    "for train_index, test_index in kfold.split(X):\n",
    "  for model in models:\n",
    "    mdr = model[1]\n",
    "    mdr.fit(X.iloc[train_index,:], y.iloc[train_index])\n",
    "    results = results.append( \n",
    "        pd.DataFrame([[model[0],\n",
    "                    k, \n",
    "                    mean_squared_error(y.iloc[test_index],mdr.predict(X.iloc[test_index,:]))]],\n",
    "            columns=['model','kf','MSE']))\n",
    "  k+=1\n",
    "results.reset_index(inplace=True,drop=True)"
   ]
  },
  {
   "cell_type": "code",
   "execution_count": 14,
   "metadata": {},
   "outputs": [
    {
     "data": {
      "text/html": [
       "<div>\n",
       "<style scoped>\n",
       "    .dataframe tbody tr th:only-of-type {\n",
       "        vertical-align: middle;\n",
       "    }\n",
       "\n",
       "    .dataframe tbody tr th {\n",
       "        vertical-align: top;\n",
       "    }\n",
       "\n",
       "    .dataframe thead th {\n",
       "        text-align: right;\n",
       "    }\n",
       "</style>\n",
       "<table border=\"1\" class=\"dataframe\">\n",
       "  <thead>\n",
       "    <tr style=\"text-align: right;\">\n",
       "      <th></th>\n",
       "      <th>MSE</th>\n",
       "    </tr>\n",
       "    <tr>\n",
       "      <th>model</th>\n",
       "      <th></th>\n",
       "    </tr>\n",
       "  </thead>\n",
       "  <tbody>\n",
       "    <tr>\n",
       "      <th>GBR</th>\n",
       "      <td>9.182019</td>\n",
       "    </tr>\n",
       "    <tr>\n",
       "      <th>RF</th>\n",
       "      <td>9.188798</td>\n",
       "    </tr>\n",
       "    <tr>\n",
       "      <th>XGB</th>\n",
       "      <td>9.207503</td>\n",
       "    </tr>\n",
       "    <tr>\n",
       "      <th>AdaB</th>\n",
       "      <td>11.076624</td>\n",
       "    </tr>\n",
       "  </tbody>\n",
       "</table>\n",
       "</div>"
      ],
      "text/plain": [
       "             MSE\n",
       "model           \n",
       "GBR     9.182019\n",
       "RF      9.188798\n",
       "XGB     9.207503\n",
       "AdaB   11.076624"
      ]
     },
     "execution_count": 14,
     "metadata": {},
     "output_type": "execute_result"
    }
   ],
   "source": [
    "# 10-fold CV results\n",
    "results.groupby('model').mean().sort_values('MSE',ascending=True)"
   ]
  },
  {
   "cell_type": "markdown",
   "metadata": {},
   "source": [
    "## Classifier models"
   ]
  },
  {
   "cell_type": "code",
   "execution_count": 15,
   "metadata": {},
   "outputs": [],
   "source": [
    "# Classifier models\n",
    "from sklearn.ensemble import RandomForestClassifier,GradientBoostingClassifier,AdaBoostClassifier\n",
    "from xgboost.sklearn import XGBClassifier"
   ]
  },
  {
   "cell_type": "code",
   "execution_count": 16,
   "metadata": {},
   "outputs": [],
   "source": [
    "from sklearn.metrics import accuracy_score\n",
    "from sklearn.model_selection import StratifiedKFold"
   ]
  },
  {
   "cell_type": "code",
   "execution_count": 17,
   "metadata": {},
   "outputs": [],
   "source": [
    "# Classes \n",
    "# Expected time of the project 13\n",
    "data['delay']=data['duration']>13"
   ]
  },
  {
   "cell_type": "code",
   "execution_count": 18,
   "metadata": {},
   "outputs": [],
   "source": [
    "y=data.loc[:,'delay']\n",
    "X=data.loc[:,['duration@1','duration@2', 'duration@3','duration@4', 'duration@5','duration@6', 'duration@7','duration@8']]"
   ]
  },
  {
   "cell_type": "code",
   "execution_count": 19,
   "metadata": {},
   "outputs": [
    {
     "data": {
      "text/plain": [
       "{'learning_rate': 0.9, 'n_estimators': 300}"
      ]
     },
     "execution_count": 19,
     "metadata": {},
     "output_type": "execute_result"
    }
   ],
   "source": [
    "# AdaBoostClassifier: grid search\n",
    "# https://scikit-learn.org/stable/modules/generated/sklearn.ensemble.AdaBoostRegressor.html\n",
    "mdr = GridSearchCV(AdaBoostClassifier(),\n",
    "    param_grid={\"n_estimators\": np.linspace(100,1000,10).astype('int'),\n",
    "                \"learning_rate\": np.linspace(0.1,1,10)},n_jobs=8)\n",
    "mdr.fit(X, y)\n",
    "mdr.best_params_ # 'learning_rate': 0.9, 'n_estimators': 300"
   ]
  },
  {
   "cell_type": "code",
   "execution_count": 20,
   "metadata": {},
   "outputs": [
    {
     "data": {
      "text/plain": [
       "{'max_depth': 5, 'n_estimators': 100}"
      ]
     },
     "execution_count": 20,
     "metadata": {},
     "output_type": "execute_result"
    }
   ],
   "source": [
    "# GradientBoostingClassifier\n",
    "# https://scikit-learn.org/stable/modules/generated/sklearn.ensemble.GradientBoostingRegressor.html\n",
    "mdr = GridSearchCV(GradientBoostingClassifier(),\n",
    "    param_grid={\"n_estimators\": np.linspace(100,1000,7).astype('int'),  \n",
    "                \"max_depth\": np.linspace(1,10,5).astype('int')},n_jobs=8) \n",
    "mdr.fit(X, y)\n",
    "mdr.best_params_ # 'max_depth': 5, 'n_estimators': 100"
   ]
  },
  {
   "cell_type": "code",
   "execution_count": 21,
   "metadata": {},
   "outputs": [
    {
     "data": {
      "text/plain": [
       "{'max_depth': 10, 'n_estimators': 850}"
      ]
     },
     "execution_count": 21,
     "metadata": {},
     "output_type": "execute_result"
    }
   ],
   "source": [
    "# RandomForestClassifier\n",
    "# https://scikit-learn.org/stable/modules/generated/sklearn.ensemble.RandomForestRegressor.html\n",
    "mdr = GridSearchCV(RandomForestClassifier(),\n",
    "param_grid={\"n_estimators\": np.linspace(100,1000,7).astype('int'), \n",
    "           \"max_depth\": np.linspace(1,10,5).astype('int')},n_jobs=8)\n",
    "mdr.fit(X, y)\n",
    "mdr.best_params_ # 'max_depth': 10, 'n_estimators': 850"
   ]
  },
  {
   "cell_type": "code",
   "execution_count": 22,
   "metadata": {},
   "outputs": [
    {
     "name": "stderr",
     "output_type": "stream",
     "text": [
      "c:\\Users\\jisma\\Anaconda3\\envs\\nchenv\\lib\\site-packages\\xgboost\\sklearn.py:1224: UserWarning: The use of label encoder in XGBClassifier is deprecated and will be removed in a future release. To remove this warning, do the following: 1) Pass option use_label_encoder=False when constructing XGBClassifier object; and 2) Encode your labels (y) as integers starting with 0, i.e. 0, 1, 2, ..., [num_class - 1].\n",
      "  warnings.warn(label_encoder_deprecation_msg, UserWarning)\n"
     ]
    },
    {
     "data": {
      "text/plain": [
       "{'max_depth': 3, 'n_estimators': 100}"
      ]
     },
     "execution_count": 22,
     "metadata": {},
     "output_type": "execute_result"
    }
   ],
   "source": [
    "# XGBClassifier\n",
    "# https://xgboost.readthedocs.io/en/stable/python/python_api.html#module-xgboost.sklearn\n",
    "mdr = GridSearchCV(XGBClassifier(verbosity = 0),\n",
    "    param_grid={\"n_estimators\": np.linspace(100,1000,7).astype('int'),  \n",
    "                \"max_depth\": np.linspace(1,10,5).astype('int')},n_jobs=8)    \n",
    "mdr.fit(X, y)\n",
    "mdr.best_params_ # 'max_depth': 3, 'n_estimators': 100"
   ]
  },
  {
   "cell_type": "code",
   "execution_count": null,
   "metadata": {},
   "outputs": [],
   "source": [
    "# Selection of models by 10-fold CV\n",
    "kfold = StratifiedKFold(n_splits=10, random_state=seed,shuffle=True)\n",
    "results2 = pd.DataFrame([],columns=['model','kf','Accuracy'])\n",
    "models=[ ('AdaB',AdaBoostClassifier(learning_rate=0.9, n_estimators=300)),\n",
    "         ('GBR',GradientBoostingClassifier(max_depth=5, n_estimators=100)),\n",
    "         ('RF',RandomForestClassifier(max_depth=10, n_estimators=850)),\n",
    "         ('XGB',XGBClassifier(max_depth=3, n_estimators=100))]\n",
    "k=0\n",
    "for train_index, test_index in kfold.split(X,y):\n",
    "  for model in models:\n",
    "    mdr = model[1]\n",
    "    mdr.fit(X.iloc[train_index,:], y.iloc[train_index])\n",
    "    results2 = results2.append( \n",
    "        pd.DataFrame([[model[0],\n",
    "                    k, \n",
    "                    accuracy_score(y.iloc[test_index],mdr.predict(X.iloc[test_index,:]))]],\n",
    "            columns=['model','kf','Accuracy']))\n",
    "  k+=1\n",
    "results2.reset_index(inplace=True,drop=True)"
   ]
  },
  {
   "cell_type": "code",
   "execution_count": 25,
   "metadata": {},
   "outputs": [
    {
     "data": {
      "text/html": [
       "<div>\n",
       "<style scoped>\n",
       "    .dataframe tbody tr th:only-of-type {\n",
       "        vertical-align: middle;\n",
       "    }\n",
       "\n",
       "    .dataframe tbody tr th {\n",
       "        vertical-align: top;\n",
       "    }\n",
       "\n",
       "    .dataframe thead th {\n",
       "        text-align: right;\n",
       "    }\n",
       "</style>\n",
       "<table border=\"1\" class=\"dataframe\">\n",
       "  <thead>\n",
       "    <tr style=\"text-align: right;\">\n",
       "      <th></th>\n",
       "      <th>Accuracy</th>\n",
       "    </tr>\n",
       "    <tr>\n",
       "      <th>model</th>\n",
       "      <th></th>\n",
       "    </tr>\n",
       "  </thead>\n",
       "  <tbody>\n",
       "    <tr>\n",
       "      <th>AdaB</th>\n",
       "      <td>0.85314</td>\n",
       "    </tr>\n",
       "    <tr>\n",
       "      <th>RF</th>\n",
       "      <td>0.85482</td>\n",
       "    </tr>\n",
       "    <tr>\n",
       "      <th>GBR</th>\n",
       "      <td>0.85646</td>\n",
       "    </tr>\n",
       "    <tr>\n",
       "      <th>XGB</th>\n",
       "      <td>0.85694</td>\n",
       "    </tr>\n",
       "  </tbody>\n",
       "</table>\n",
       "</div>"
      ],
      "text/plain": [
       "       Accuracy\n",
       "model          \n",
       "AdaB    0.85314\n",
       "RF      0.85482\n",
       "GBR     0.85646\n",
       "XGB     0.85694"
      ]
     },
     "execution_count": 25,
     "metadata": {},
     "output_type": "execute_result"
    }
   ],
   "source": [
    "# 10-fold CV results\n",
    "results2.groupby('model').mean().sort_values('Accuracy',ascending=True)"
   ]
  }
 ],
 "metadata": {
  "kernelspec": {
   "display_name": "Python 3.7.13 ('nchenv')",
   "language": "python",
   "name": "python3"
  },
  "language_info": {
   "codemirror_mode": {
    "name": "ipython",
    "version": 3
   },
   "file_extension": ".py",
   "mimetype": "text/x-python",
   "name": "python",
   "nbconvert_exporter": "python",
   "pygments_lexer": "ipython3",
   "version": "3.7.13"
  },
  "orig_nbformat": 4,
  "vscode": {
   "interpreter": {
    "hash": "a99b9f778b7a026bd5c86bd94be6744eb13aba0a0ce78769fbbfa49d88ffc1f1"
   }
  }
 },
 "nbformat": 4,
 "nbformat_minor": 2
}
