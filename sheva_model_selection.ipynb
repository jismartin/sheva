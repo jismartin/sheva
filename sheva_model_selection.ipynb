{
 "cells": [
  {
   "cell_type": "markdown",
   "metadata": {},
   "source": [
    "# Explainable machine learning for project control"
   ]
  },
  {
   "cell_type": "markdown",
   "metadata": {},
   "source": [
    "# Model selection"
   ]
  },
  {
   "cell_type": "markdown",
   "metadata": {},
   "source": [
    "## Dataset"
   ]
  },
  {
   "cell_type": "code",
   "execution_count": 11,
   "metadata": {},
   "outputs": [],
   "source": [
    "import pandas as pd\n",
    "import numpy as np"
   ]
  },
  {
   "cell_type": "code",
   "execution_count": 12,
   "metadata": {},
   "outputs": [],
   "source": [
    "# Simulation  dataset\n",
    "# Null model (5-rand) of comparison\n",
    "data=pd.read_csv('./data/simulation_EV0.75_5-rand.csv',index_col=0)\n",
    "data['critical_path']=data['critical_path'].astype('str')"
   ]
  },
  {
   "cell_type": "markdown",
   "metadata": {},
   "source": [
    "## Regresion models"
   ]
  },
  {
   "cell_type": "markdown",
   "metadata": {},
   "source": [
    "### Model selection\n",
    "We use nested cross-validation with the null model (5-rand) simulation dataset for the backward regression problem DBAC~ {activity i's duration at 75%EV} i=1,...,8 "
   ]
  },
  {
   "cell_type": "code",
   "execution_count": 13,
   "metadata": {},
   "outputs": [],
   "source": [
    "# Reegression models\n",
    "from sklearn.ensemble import RandomForestRegressor, GradientBoostingRegressor, AdaBoostRegressor\n",
    "from xgboost.sklearn import XGBRegressor"
   ]
  },
  {
   "cell_type": "code",
   "execution_count": 14,
   "metadata": {},
   "outputs": [],
   "source": [
    "from sklearn.model_selection import KFold, GridSearchCV\n",
    "from sklearn.metrics import mean_squared_error"
   ]
  },
  {
   "cell_type": "code",
   "execution_count": 18,
   "metadata": {},
   "outputs": [],
   "source": [
    "# random seed\n",
    "seed=1123"
   ]
  },
  {
   "cell_type": "code",
   "execution_count": 19,
   "metadata": {},
   "outputs": [],
   "source": [
    "# DBAC regression\n",
    "y=data.loc[:,'duration']\n",
    "X=data.loc[:,['duration@1','duration@2', 'duration@3','duration@4', 'duration@5','duration@6', 'duration@7','duration@8']]"
   ]
  },
  {
   "cell_type": "code",
   "execution_count": 20,
   "metadata": {},
   "outputs": [],
   "source": [
    "# outer kfolds\n",
    "kfold = KFold(n_splits=5, random_state=seed,shuffle=True)"
   ]
  },
  {
   "cell_type": "code",
   "execution_count": 21,
   "metadata": {},
   "outputs": [],
   "source": [
    "# save outer kfolds\n",
    "kfs=pd.DataFrame([],columns=['kn','type','i'])\n",
    "k=0\n",
    "for train_index, test_index in kfold.split(X):\n",
    "  p1=pd.DataFrame(train_index,columns=['i'])\n",
    "  p1['kn']=k\n",
    "  p1['type']='train'\n",
    "  p2=pd.DataFrame(test_index,columns=['i'])\n",
    "  p2['kn']=k\n",
    "  p2['type']='test'\n",
    "  p1=p1.append(p2)\n",
    "  kfs=kfs.append(p1)\n",
    "  k+=1\n",
    "kfs.reset_index(inplace=True,drop=True)\n",
    "kfs.to_csv('./data/regression_model_selection_kf_index.csv')"
   ]
  },
  {
   "cell_type": "code",
   "execution_count": 23,
   "metadata": {},
   "outputs": [],
   "source": [
    "# load outer kfolds\n",
    "kfs=pd.read_csv('./data/regression_model_selection_kf_index.csv',index_col=0)"
   ]
  },
  {
   "cell_type": "code",
   "execution_count": 24,
   "metadata": {},
   "outputs": [],
   "source": [
    "# results\n",
    "results = pd.DataFrame([],columns=['model','kf','MSE'])"
   ]
  },
  {
   "cell_type": "code",
   "execution_count": 25,
   "metadata": {},
   "outputs": [],
   "source": [
    "# RandomForestRegressor\n",
    "# https://scikit-learn.org/stable/modules/generated/sklearn.ensemble.RandomForestRegressor.html\n",
    "model='RFR'\n",
    "k=0\n",
    "for train_index, test_index in kfold.split(X):\n",
    "\n",
    "  # parameter optimization in the inner folds\n",
    "    # n_estimators: number of trees\n",
    "    # max_depth of the trees\n",
    "  mdr = GridSearchCV(RandomForestRegressor(),\n",
    "                    param_grid={\"n_estimators\": np.linspace(100,1000,5).astype('int'), \n",
    "                            \"max_depth\": np.linspace(1,10,5).astype('int')},\n",
    "                    n_jobs=6)  \n",
    "  mdr.fit(X.iloc[train_index,:], y.iloc[train_index])\n",
    "  \n",
    "  # score of the best model in the outer fold\n",
    "  results = results.append( pd.DataFrame([[model,k, \n",
    "        mean_squared_error(y.iloc[test_index],mdr.best_estimator_.predict(X.iloc[test_index,:]))]],columns=['model','kf','MSE']))\n",
    "  k+=1"
   ]
  },
  {
   "cell_type": "code",
   "execution_count": 26,
   "metadata": {},
   "outputs": [],
   "source": [
    "# GradientBoostingRegressor\n",
    "# https://scikit-learn.org/stable/modules/generated/sklearn.ensemble.GradientBoostingRegressor.html\n",
    "model='GradientBoostingR'\n",
    "k=0\n",
    "for train_index, test_index in kfold.split(X):\n",
    "\n",
    "  # parameter optimization in the inner folds\n",
    "    # n_estimators: number of  boosting stages\n",
    "    # max_depth of the regression estimators\n",
    "  mdr = GridSearchCV(GradientBoostingRegressor(),\n",
    "                    param_grid={\"n_estimators\": np.linspace(100,1000,5).astype('int'),  \n",
    "                                \"max_depth\": np.linspace(1,10,5).astype('int')},\n",
    "                    n_jobs=6)  \n",
    "  mdr.fit(X.iloc[train_index,:], y.iloc[train_index])\n",
    "  \n",
    "  # score of the best model in the outer fold\n",
    "  results = results.append( pd.DataFrame([[model,k, mean_squared_error(y.iloc[test_index],mdr.best_estimator_.predict(X.iloc[test_index,:]))]],columns=['model','kf','MSE']))\n",
    "  k+=1"
   ]
  },
  {
   "cell_type": "code",
   "execution_count": 27,
   "metadata": {},
   "outputs": [],
   "source": [
    "# AdaBoostRegressor\n",
    "# https://scikit-learn.org/stable/modules/generated/sklearn.ensemble.AdaBoostRegressor.html\n",
    "model='AdaBoostR'\n",
    "k=0\n",
    "for train_index, test_index in kfold.split(X):\n",
    "\n",
    "  # parameter optimization in the inner folds\n",
    "    # n_estimators: maximum number of estimators at which boosting is terminated\n",
    "  mdr = GridSearchCV(AdaBoostRegressor(),\n",
    "                    param_grid={\"n_estimators\": np.linspace(100,1000,5).astype('int'),\n",
    "                                \"learning_rate\": np.linspace(0.1,1,5)},\n",
    "                    n_jobs=6)\n",
    "  mdr.fit(X.iloc[train_index,:], y.iloc[train_index])\n",
    "  \n",
    "  # score of the best model in the outer fold\n",
    "  results = results.append( pd.DataFrame([[model,k, mean_squared_error(y.iloc[test_index],mdr.best_estimator_.predict(X.iloc[test_index,:]))]],columns=['model','kf','MSE']))  \n",
    "  k+=1"
   ]
  },
  {
   "cell_type": "code",
   "execution_count": 28,
   "metadata": {},
   "outputs": [],
   "source": [
    "# XGBRegressor\n",
    "# https://xgboost.readthedocs.io/en/stable/python/python_api.html#module-xgboost.sklearn\n",
    "model='XGBoostR'\n",
    "k=0\n",
    "for train_index, test_index in kfold.split(X):\n",
    "\n",
    "  # parameter optimization in the inner folds\n",
    "    # n_estimators: number of gradient boosted trees\n",
    "    # max_depth: maximum tree depth for base learners\n",
    "  mdr = GridSearchCV(XGBRegressor(verbosity = 0),\n",
    "                    param_grid={\"n_estimators\": np.linspace(100,1000,5).astype('int'),  \n",
    "                                \"max_depth\": np.linspace(1,10,5).astype('int')},\n",
    "                    n_jobs=6)    \n",
    "  mdr.fit(X.iloc[train_index,:], y.iloc[train_index])\n",
    "  \n",
    "  # score of the best model in the outer fold\n",
    "  results = results.append( pd.DataFrame([[model,k, mean_squared_error(y.iloc[test_index],mdr.best_estimator_.predict(X.iloc[test_index,:]))]],columns=['model','kf','MSE']))\n",
    "  k+=1"
   ]
  },
  {
   "cell_type": "code",
   "execution_count": 30,
   "metadata": {},
   "outputs": [],
   "source": [
    "# Save results\n",
    "results.reset_index(inplace=True,drop=True)\n",
    "results.to_csv('./data/regression_model_selection_results.csv')"
   ]
  },
  {
   "cell_type": "code",
   "execution_count": null,
   "metadata": {},
   "outputs": [],
   "source": [
    "# Load results\n",
    "results=pd.read_csv('./data/regression_model_selection_results.csv',index_col=0)"
   ]
  },
  {
   "cell_type": "code",
   "execution_count": 31,
   "metadata": {},
   "outputs": [
    {
     "data": {
      "text/html": [
       "<div>\n",
       "<style scoped>\n",
       "    .dataframe tbody tr th:only-of-type {\n",
       "        vertical-align: middle;\n",
       "    }\n",
       "\n",
       "    .dataframe tbody tr th {\n",
       "        vertical-align: top;\n",
       "    }\n",
       "\n",
       "    .dataframe thead tr th {\n",
       "        text-align: left;\n",
       "    }\n",
       "\n",
       "    .dataframe thead tr:last-of-type th {\n",
       "        text-align: right;\n",
       "    }\n",
       "</style>\n",
       "<table border=\"1\" class=\"dataframe\">\n",
       "  <thead>\n",
       "    <tr>\n",
       "      <th></th>\n",
       "      <th colspan=\"2\" halign=\"left\">MSE</th>\n",
       "    </tr>\n",
       "    <tr>\n",
       "      <th></th>\n",
       "      <th>mean</th>\n",
       "      <th>std</th>\n",
       "    </tr>\n",
       "    <tr>\n",
       "      <th>model</th>\n",
       "      <th></th>\n",
       "      <th></th>\n",
       "    </tr>\n",
       "  </thead>\n",
       "  <tbody>\n",
       "    <tr>\n",
       "      <th>GradientBoostingR</th>\n",
       "      <td>9.193957</td>\n",
       "      <td>0.273381</td>\n",
       "    </tr>\n",
       "    <tr>\n",
       "      <th>RFR</th>\n",
       "      <td>9.205236</td>\n",
       "      <td>0.251368</td>\n",
       "    </tr>\n",
       "    <tr>\n",
       "      <th>XGBoostR</th>\n",
       "      <td>9.216796</td>\n",
       "      <td>0.268691</td>\n",
       "    </tr>\n",
       "    <tr>\n",
       "      <th>AdaBoostR</th>\n",
       "      <td>11.061972</td>\n",
       "      <td>0.123189</td>\n",
       "    </tr>\n",
       "  </tbody>\n",
       "</table>\n",
       "</div>"
      ],
      "text/plain": [
       "                         MSE          \n",
       "                        mean       std\n",
       "model                                 \n",
       "GradientBoostingR   9.193957  0.273381\n",
       "RFR                 9.205236  0.251368\n",
       "XGBoostR            9.216796  0.268691\n",
       "AdaBoostR          11.061972  0.123189"
      ]
     },
     "execution_count": 31,
     "metadata": {},
     "output_type": "execute_result"
    }
   ],
   "source": [
    "# Average MSE over 5-fold cross-validation\n",
    "results.groupby('model').agg({'MSE':['mean','std']}).sort_values(by=('MSE', 'mean'))"
   ]
  },
  {
   "cell_type": "markdown",
   "metadata": {},
   "source": [
    "### Hyper-parameters selection of Gradient Boosting"
   ]
  },
  {
   "cell_type": "markdown",
   "metadata": {},
   "source": [
    "#### Forward analysis\n",
    "DBAC~ {activity i's duration} i=1,...,8"
   ]
  },
  {
   "cell_type": "code",
   "execution_count": 53,
   "metadata": {},
   "outputs": [],
   "source": [
    "# Regression\n",
    "y=data.loc[:,'duration']\n",
    "X=data.loc[:,['duration1','duration2', 'duration3','duration4', 'duration5','duration6', 'duration7','duration8']]"
   ]
  },
  {
   "cell_type": "code",
   "execution_count": 54,
   "metadata": {},
   "outputs": [
    {
     "data": {
      "text/plain": [
       "{'max_depth': 10, 'n_estimators': 1000}"
      ]
     },
     "execution_count": 54,
     "metadata": {},
     "output_type": "execute_result"
    }
   ],
   "source": [
    "# GradientBoostingRegressor\n",
    "# https://scikit-learn.org/stable/modules/generated/sklearn.ensemble.GradientBoostingRegressor.html\n",
    "mdr = GridSearchCV(GradientBoostingRegressor(),\n",
    "    param_grid={\"n_estimators\": np.linspace(100,1000,5).astype('int'),  \n",
    "                \"max_depth\": np.linspace(1,10,5).astype('int')},\n",
    "    n_jobs=8) \n",
    "mdr.fit(X, y)\n",
    "mdr.best_params_ # 'max_depth': 10, 'n_estimators': 1000"
   ]
  },
  {
   "cell_type": "markdown",
   "metadata": {},
   "source": [
    "#### Backward analysis\n",
    "DBAC~ {activity i's duration at 75%EV} i=1,...,8"
   ]
  },
  {
   "cell_type": "code",
   "execution_count": null,
   "metadata": {},
   "outputs": [],
   "source": [
    "# Regression\n",
    "y=data.loc[:,'duration']\n",
    "X=data.loc[:,['duration@1','duration@2', 'duration@3','duration@4', 'duration@5','duration@6', 'duration@7','duration@8']]"
   ]
  },
  {
   "cell_type": "code",
   "execution_count": 33,
   "metadata": {},
   "outputs": [
    {
     "data": {
      "text/plain": [
       "{'max_depth': 3, 'n_estimators': 100}"
      ]
     },
     "execution_count": 33,
     "metadata": {},
     "output_type": "execute_result"
    }
   ],
   "source": [
    "# GradientBoostingRegressor\n",
    "# https://scikit-learn.org/stable/modules/generated/sklearn.ensemble.GradientBoostingRegressor.html\n",
    "mdr = GridSearchCV(GradientBoostingRegressor(),\n",
    "    param_grid={\"n_estimators\": np.linspace(100,1000,5).astype('int'),  \n",
    "                \"max_depth\": np.linspace(1,10,5).astype('int')},\n",
    "    n_jobs=8) \n",
    "mdr.fit(X, y)\n",
    "mdr.best_params_ # 'max_depth': 3, 'n_estimators': 100"
   ]
  },
  {
   "cell_type": "markdown",
   "metadata": {},
   "source": [
    "#### Backward analysis\n",
    "TB~ {activity i's duration at 75%EV} i=1,...,8"
   ]
  },
  {
   "cell_type": "code",
   "execution_count": 55,
   "metadata": {},
   "outputs": [],
   "source": [
    "# Regression\n",
    "y=data.loc[:,'duration@']\n",
    "X=data.loc[:,['duration@1','duration@2', 'duration@3','duration@4', 'duration@5','duration@6', 'duration@7','duration@8']]"
   ]
  },
  {
   "cell_type": "code",
   "execution_count": 56,
   "metadata": {},
   "outputs": [
    {
     "data": {
      "text/plain": [
       "{'max_depth': 5, 'n_estimators': 1000}"
      ]
     },
     "execution_count": 56,
     "metadata": {},
     "output_type": "execute_result"
    }
   ],
   "source": [
    "# GradientBoostingRegressor\n",
    "# https://scikit-learn.org/stable/modules/generated/sklearn.ensemble.GradientBoostingRegressor.html\n",
    "mdr = GridSearchCV(GradientBoostingRegressor(),\n",
    "    param_grid={\"n_estimators\": np.linspace(100,1000,5).astype('int'),  \n",
    "                \"max_depth\": np.linspace(1,10,5).astype('int')},\n",
    "    n_jobs=8) \n",
    "mdr.fit(X, y)\n",
    "mdr.best_params_ # 'max_depth': 5, 'n_estimators': 1000"
   ]
  },
  {
   "cell_type": "markdown",
   "metadata": {},
   "source": [
    "## Classifier models"
   ]
  },
  {
   "cell_type": "code",
   "execution_count": 57,
   "metadata": {},
   "outputs": [],
   "source": [
    "# Classifier models\n",
    "from sklearn.ensemble import RandomForestClassifier,GradientBoostingClassifier,AdaBoostClassifier\n",
    "from xgboost.sklearn import XGBClassifier"
   ]
  },
  {
   "cell_type": "code",
   "execution_count": 58,
   "metadata": {},
   "outputs": [],
   "source": [
    "from sklearn.metrics import accuracy_score\n",
    "from sklearn.model_selection import StratifiedKFold"
   ]
  },
  {
   "cell_type": "code",
   "execution_count": 36,
   "metadata": {},
   "outputs": [],
   "source": [
    "# Classes \n",
    "# Expected time of the project 13\n",
    "data['delay']=data['duration']>13"
   ]
  },
  {
   "cell_type": "code",
   "execution_count": 37,
   "metadata": {},
   "outputs": [],
   "source": [
    "y=data.loc[:,'delay']\n",
    "X=data.loc[:,['duration@1','duration@2', 'duration@3','duration@4', 'duration@5','duration@6', 'duration@7','duration@8']]"
   ]
  },
  {
   "cell_type": "code",
   "execution_count": 38,
   "metadata": {},
   "outputs": [],
   "source": [
    "# outer kfolds\n",
    "kfold =StratifiedKFold(n_splits=5, random_state=seed,shuffle=True)"
   ]
  },
  {
   "cell_type": "code",
   "execution_count": 39,
   "metadata": {},
   "outputs": [],
   "source": [
    "# results\n",
    "results = pd.DataFrame([],columns=['model','kf','Accuracy'])"
   ]
  },
  {
   "cell_type": "code",
   "execution_count": 44,
   "metadata": {},
   "outputs": [],
   "source": [
    "# RandomForestClassifier\n",
    "# https://scikit-learn.org/stable/modules/generated/sklearn.ensemble.RandomForestClassifier.html\n",
    "model='RFC'\n",
    "k=0\n",
    "for train_index, test_index in kfold.split(X,y):\n",
    "\n",
    "  # parameter optimization in the inner folds\n",
    "    # n_estimators: number of trees\n",
    "    # max_depth of the trees\n",
    "  mdc = GridSearchCV(RandomForestClassifier(),\n",
    "                    param_grid={\"n_estimators\": np.linspace(100,1000,5).astype('int'), \n",
    "                            \"max_depth\": np.linspace(1,10,5).astype('int')},\n",
    "                    n_jobs=6)  \n",
    "  mdc.fit(X.iloc[train_index,:], y.iloc[train_index])\n",
    "  \n",
    "  # score of the best model in the outer fold\n",
    "  results = results.append( pd.DataFrame([[model,k, accuracy_score(y.iloc[test_index],mdc.best_estimator_.predict(X.iloc[test_index,:]))]],columns=['model','kf','Accuracy']))\n",
    "  k+=1"
   ]
  },
  {
   "cell_type": "code",
   "execution_count": 45,
   "metadata": {},
   "outputs": [],
   "source": [
    "# GradientBoostingClassifier\n",
    "# https://scikit-learn.org/stable/modules/generated/sklearn.ensemble.GradientBoostingClassifier.html\n",
    "model='GradientBoostingC'\n",
    "k=0\n",
    "for train_index, test_index in kfold.split(X,y):\n",
    "\n",
    "  # parameter optimization in the inner folds\n",
    "    # n_estimators: number of  boosting stages\n",
    "    # max_depth of the regression estimators\n",
    "  mdc = GridSearchCV(GradientBoostingClassifier(),\n",
    "                    param_grid={\"n_estimators\": np.linspace(100,1000,5).astype('int'),  \n",
    "                                \"max_depth\": np.linspace(1,10,5).astype('int')},\n",
    "                    n_jobs=6)  \n",
    "  mdc.fit(X.iloc[train_index,:], y.iloc[train_index])\n",
    "  \n",
    "  # score of the best model in the outer fold\n",
    "  results = results.append( pd.DataFrame([[model,k, accuracy_score(y.iloc[test_index],mdc.best_estimator_.predict(X.iloc[test_index,:]))]],columns=['model','kf','Accuracy']))\n",
    "  k+=1"
   ]
  },
  {
   "cell_type": "code",
   "execution_count": 46,
   "metadata": {},
   "outputs": [],
   "source": [
    "# AdaBoostClassifier\n",
    "# https://scikit-learn.org/stable/modules/generated/sklearn.ensemble.AdaBoostClassifier.html\n",
    "model='AdaBoostC'\n",
    "k=0\n",
    "for train_index, test_index in kfold.split(X,y):\n",
    "\n",
    "  # parameter optimization in the inner folds\n",
    "    # n_estimators: maximum number of estimators at which boosting is terminated\n",
    "  mdc = GridSearchCV(AdaBoostClassifier(),\n",
    "                    param_grid={\"n_estimators\": np.linspace(100,1000,5).astype('int'),\n",
    "                                \"learning_rate\": np.linspace(0.1,1,5)},\n",
    "                    n_jobs=6)\n",
    "  mdc.fit(X.iloc[train_index,:], y.iloc[train_index])\n",
    "  \n",
    "  # score of the best model in the outer fold\n",
    "  results = results.append( pd.DataFrame([[model,k, accuracy_score(y.iloc[test_index],mdc.best_estimator_.predict(X.iloc[test_index,:]))]],columns=['model','kf','Accuracy']))  \n",
    "  k+=1"
   ]
  },
  {
   "cell_type": "code",
   "execution_count": null,
   "metadata": {},
   "outputs": [],
   "source": [
    "# XGBClassifier\n",
    "# https://xgboost.readthedocs.io/en/stable/python/python_api.html#module-xgboost.sklearn\n",
    "model='XGBoostC'\n",
    "k=0\n",
    "for train_index, test_index in kfold.split(X,y):\n",
    "\n",
    "  # parameter optimization in the inner folds\n",
    "    # n_estimators: number of gradient boosted trees\n",
    "    # max_depth: maximum tree depth for base learners\n",
    "  mdc = GridSearchCV(XGBClassifier(verbosity = 0),\n",
    "                    param_grid={\"n_estimators\": np.linspace(100,1000,5).astype('int'),  \n",
    "                                \"max_depth\": np.linspace(1,10,5).astype('int')},\n",
    "                    n_jobs=6)    \n",
    "  mdc.fit(X.iloc[train_index,:], y.iloc[train_index])\n",
    "  \n",
    "  # score of the best model in the outer fold\n",
    "  results = results.append( pd.DataFrame([[model,k, accuracy_score(y.iloc[test_index],mdc.best_estimator_.predict(X.iloc[test_index,:]))]],columns=['model','kf','Accuracy']))\n",
    "  k+=1"
   ]
  },
  {
   "cell_type": "code",
   "execution_count": 49,
   "metadata": {},
   "outputs": [],
   "source": [
    "# Save results\n",
    "results.reset_index(inplace=True,drop=True)\n",
    "results.to_csv('./data/classification_model_selection_results.csv')"
   ]
  },
  {
   "cell_type": "code",
   "execution_count": null,
   "metadata": {},
   "outputs": [],
   "source": [
    "# Load results\n",
    "results=pd.read_csv('./data/classification_model_selection_results.csv',index_col=0)"
   ]
  },
  {
   "cell_type": "code",
   "execution_count": 52,
   "metadata": {},
   "outputs": [
    {
     "data": {
      "text/html": [
       "<div>\n",
       "<style scoped>\n",
       "    .dataframe tbody tr th:only-of-type {\n",
       "        vertical-align: middle;\n",
       "    }\n",
       "\n",
       "    .dataframe tbody tr th {\n",
       "        vertical-align: top;\n",
       "    }\n",
       "\n",
       "    .dataframe thead tr th {\n",
       "        text-align: left;\n",
       "    }\n",
       "\n",
       "    .dataframe thead tr:last-of-type th {\n",
       "        text-align: right;\n",
       "    }\n",
       "</style>\n",
       "<table border=\"1\" class=\"dataframe\">\n",
       "  <thead>\n",
       "    <tr>\n",
       "      <th></th>\n",
       "      <th colspan=\"2\" halign=\"left\">Accuracy</th>\n",
       "    </tr>\n",
       "    <tr>\n",
       "      <th></th>\n",
       "      <th>mean</th>\n",
       "      <th>std</th>\n",
       "    </tr>\n",
       "    <tr>\n",
       "      <th>model</th>\n",
       "      <th></th>\n",
       "      <th></th>\n",
       "    </tr>\n",
       "  </thead>\n",
       "  <tbody>\n",
       "    <tr>\n",
       "      <th>GradientBoostingC</th>\n",
       "      <td>0.85704</td>\n",
       "      <td>0.002016</td>\n",
       "    </tr>\n",
       "    <tr>\n",
       "      <th>XGBoostC</th>\n",
       "      <td>0.85642</td>\n",
       "      <td>0.002279</td>\n",
       "    </tr>\n",
       "    <tr>\n",
       "      <th>RFC</th>\n",
       "      <td>0.85444</td>\n",
       "      <td>0.003512</td>\n",
       "    </tr>\n",
       "    <tr>\n",
       "      <th>AdaBoostC</th>\n",
       "      <td>0.85368</td>\n",
       "      <td>0.002894</td>\n",
       "    </tr>\n",
       "  </tbody>\n",
       "</table>\n",
       "</div>"
      ],
      "text/plain": [
       "                  Accuracy          \n",
       "                      mean       std\n",
       "model                               \n",
       "GradientBoostingC  0.85704  0.002016\n",
       "XGBoostC           0.85642  0.002279\n",
       "RFC                0.85444  0.003512\n",
       "AdaBoostC          0.85368  0.002894"
      ]
     },
     "execution_count": 52,
     "metadata": {},
     "output_type": "execute_result"
    }
   ],
   "source": [
    "# Average Accuracy over 5-fold cross-validation\n",
    "results.groupby('model').agg({'Accuracy':['mean','std']}).sort_values(by=('Accuracy', 'mean'),ascending=False)"
   ]
  },
  {
   "cell_type": "markdown",
   "metadata": {},
   "source": [
    "### Hyper-parameters selection"
   ]
  },
  {
   "cell_type": "markdown",
   "metadata": {},
   "source": [
    "#### Backward analysis\n",
    "C_dbac~ {activity i's duration at 75%EV} i=1,...,8"
   ]
  },
  {
   "cell_type": "code",
   "execution_count": null,
   "metadata": {},
   "outputs": [],
   "source": [
    "y=data.loc[:,'delay']\n",
    "X=data.loc[:,['duration@1','duration@2', 'duration@3','duration@4', 'duration@5','duration@6', 'duration@7','duration@8']]"
   ]
  },
  {
   "cell_type": "code",
   "execution_count": 51,
   "metadata": {},
   "outputs": [
    {
     "data": {
      "text/plain": [
       "{'max_depth': 5, 'n_estimators': 100}"
      ]
     },
     "execution_count": 51,
     "metadata": {},
     "output_type": "execute_result"
    }
   ],
   "source": [
    "# GradientBoostingClassifier\n",
    "# https://scikit-learn.org/stable/modules/generated/sklearn.ensemble.GradientBoostingClassifier.html\n",
    "mdc = GridSearchCV(GradientBoostingClassifier(),\n",
    "    param_grid={\"n_estimators\": np.linspace(100,1000,5).astype('int'),  \n",
    "                \"max_depth\": np.linspace(1,10,5).astype('int')},\n",
    "    n_jobs=8) \n",
    "mdc.fit(X, y)\n",
    "mdc.best_params_ # {'max_depth': 5, 'n_estimators': 100}"
   ]
  },
  {
   "cell_type": "markdown",
   "metadata": {},
   "source": [
    "#### Backward analysis\n",
    "C_tb~ {activity i's duration at 75%EV} i=1,...,8"
   ]
  },
  {
   "cell_type": "code",
   "execution_count": 60,
   "metadata": {},
   "outputs": [],
   "source": [
    "# Expected time of the project at 75%EV 9.1763\n",
    "data['delay@']=data['duration@']>9.1763"
   ]
  },
  {
   "cell_type": "code",
   "execution_count": 61,
   "metadata": {},
   "outputs": [],
   "source": [
    "y=data.loc[:,'delay@']\n",
    "X=data.loc[:,['duration@1','duration@2', 'duration@3','duration@4', 'duration@5','duration@6', 'duration@7','duration@8']]"
   ]
  },
  {
   "cell_type": "code",
   "execution_count": 62,
   "metadata": {},
   "outputs": [
    {
     "data": {
      "text/plain": [
       "{'max_depth': 7, 'n_estimators': 100}"
      ]
     },
     "execution_count": 62,
     "metadata": {},
     "output_type": "execute_result"
    }
   ],
   "source": [
    "# GradientBoostingClassifier\n",
    "# https://scikit-learn.org/stable/modules/generated/sklearn.ensemble.GradientBoostingClassifier.html\n",
    "mdc = GridSearchCV(GradientBoostingClassifier(),\n",
    "    param_grid={\"n_estimators\": np.linspace(100,1000,5).astype('int'),  \n",
    "                \"max_depth\": np.linspace(1,10,5).astype('int')},\n",
    "    n_jobs=8) \n",
    "mdc.fit(X, y)\n",
    "mdc.best_params_ # {'max_depth': 7, 'n_estimators': 100}"
   ]
  }
 ],
 "metadata": {
  "kernelspec": {
   "display_name": "Python 3.7.13 ('nchenv')",
   "language": "python",
   "name": "python3"
  },
  "language_info": {
   "codemirror_mode": {
    "name": "ipython",
    "version": 3
   },
   "file_extension": ".py",
   "mimetype": "text/x-python",
   "name": "python",
   "nbconvert_exporter": "python",
   "pygments_lexer": "ipython3",
   "version": "3.7.13"
  },
  "orig_nbformat": 4,
  "vscode": {
   "interpreter": {
    "hash": "a99b9f778b7a026bd5c86bd94be6744eb13aba0a0ce78769fbbfa49d88ffc1f1"
   }
  }
 },
 "nbformat": 4,
 "nbformat_minor": 2
}
